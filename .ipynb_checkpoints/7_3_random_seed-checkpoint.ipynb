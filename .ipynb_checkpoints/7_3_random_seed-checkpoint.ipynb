{
 "cells": [
  {
   "cell_type": "code",
   "execution_count": 1,
   "id": "5a993aa3-9745-4549-9fdd-68f8afdec7bd",
   "metadata": {},
   "outputs": [],
   "source": [
    "import numpy as np"
   ]
  },
  {
   "cell_type": "code",
   "execution_count": 24,
   "id": "c992d56e-ac35-425e-be59-84372f78b527",
   "metadata": {},
   "outputs": [
    {
     "data": {
      "text/plain": [
       "array([[0, 7, 6],\n",
       "       [4, 4, 8],\n",
       "       [0, 6, 2],\n",
       "       [0, 5, 9],\n",
       "       [7, 7, 7]])"
      ]
     },
     "execution_count": 24,
     "metadata": {},
     "output_type": "execute_result"
    }
   ],
   "source": [
    "rng = np.random.default_rng(42) # This sets the seed for the random number generator. thus making the randomness predictable.\n",
    "rng.integers(10, size=(5,3))"
   ]
  },
  {
   "cell_type": "code",
   "execution_count": 31,
   "id": "c5aa0979-1962-402a-8d8f-ea1a4d75b6a5",
   "metadata": {},
   "outputs": [
    {
     "data": {
      "text/plain": [
       "array([[7, 7, 6],\n",
       "       [4, 7, 2],\n",
       "       [7, 5, 4],\n",
       "       [5, 5, 0],\n",
       "       [1, 2, 1]])"
      ]
     },
     "execution_count": 31,
     "metadata": {},
     "output_type": "execute_result"
    }
   ],
   "source": [
    "rng.integers(10,size=(5,3)) # This does not work for some reason? Above works."
   ]
  },
  {
   "cell_type": "code",
   "execution_count": null,
   "id": "6b53a27d-8d57-4f0a-af9f-6bdcb55221ae",
   "metadata": {},
   "outputs": [],
   "source": []
  }
 ],
 "metadata": {
  "kernelspec": {
   "display_name": "Python 3 (ipykernel)",
   "language": "python",
   "name": "python3"
  },
  "language_info": {
   "codemirror_mode": {
    "name": "ipython",
    "version": 3
   },
   "file_extension": ".py",
   "mimetype": "text/x-python",
   "name": "python",
   "nbconvert_exporter": "python",
   "pygments_lexer": "ipython3",
   "version": "3.13.4"
  }
 },
 "nbformat": 4,
 "nbformat_minor": 5
}
