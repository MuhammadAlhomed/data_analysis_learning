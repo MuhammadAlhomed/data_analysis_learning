{
 "cells": [
  {
   "cell_type": "markdown",
   "id": "3f51c685-9309-4991-843a-123c84254c72",
   "metadata": {},
   "source": [
    "# Sorting Arrays"
   ]
  },
  {
   "cell_type": "code",
   "execution_count": 1,
   "id": "2b19f14d-ad28-40dd-b410-b0dbd95cb0ff",
   "metadata": {},
   "outputs": [],
   "source": [
    "import numpy as np\n",
    "rng = np.random.default_rng(0)\n",
    "\n",
    "a1 = np.array([1,2,3])\n",
    "a2 = np.array([\n",
    "    [1, 2.0, 3.3],\n",
    "    [4, 5, 6.5]\n",
    "])\n",
    "\n",
    "a3 = np.array([\n",
    "    [\n",
    "        [1, 2, 3],\n",
    "        [4, 5, 6],\n",
    "        [7, 8, 9]\n",
    "    ],\n",
    "    [\n",
    "        [10, 11, 12],\n",
    "        [13, 14, 15],\n",
    "        [16, 17, 18]\n",
    "    ]\n",
    "])\n",
    "\n",
    "random_array = rng.integers(10, size=(3,5))"
   ]
  },
  {
   "cell_type": "code",
   "execution_count": 6,
   "id": "39b5836c-4f99-4bed-950d-a9502e6d6235",
   "metadata": {},
   "outputs": [
    {
     "data": {
      "text/plain": [
       "array([[8, 6, 5, 2, 3],\n",
       "       [0, 0, 0, 1, 8],\n",
       "       [6, 9, 5, 6, 9]])"
      ]
     },
     "execution_count": 6,
     "metadata": {},
     "output_type": "execute_result"
    }
   ],
   "source": [
    "random_array"
   ]
  },
  {
   "cell_type": "code",
   "execution_count": 3,
   "id": "1f2f6842-4447-40b5-8c12-825537b90ce4",
   "metadata": {},
   "outputs": [
    {
     "data": {
      "text/plain": [
       "array([[2, 3, 5, 6, 8],\n",
       "       [0, 0, 0, 1, 8],\n",
       "       [5, 6, 6, 9, 9]])"
      ]
     },
     "execution_count": 3,
     "metadata": {},
     "output_type": "execute_result"
    }
   ],
   "source": [
    "np.sort(random_array)"
   ]
  },
  {
   "cell_type": "code",
   "execution_count": 16,
   "id": "4f0839a6-8c80-4b83-bb69-3c5b710fae9a",
   "metadata": {},
   "outputs": [
    {
     "data": {
      "text/plain": [
       "array([[3, 4, 2, 1, 0],\n",
       "       [0, 1, 2, 3, 4],\n",
       "       [2, 0, 3, 1, 4]])"
      ]
     },
     "execution_count": 16,
     "metadata": {},
     "output_type": "execute_result"
    }
   ],
   "source": [
    "np.argsort(random_array) # 'arg' does not sort the array, but returns what the index is supposed to be for it to be sorted"
   ]
  },
  {
   "cell_type": "code",
   "execution_count": 17,
   "id": "e5190995-1a50-4096-be4c-d5c3977c6346",
   "metadata": {},
   "outputs": [
    {
     "data": {
      "text/plain": [
       "array([1, 1, 1, 1, 0])"
      ]
     },
     "execution_count": 17,
     "metadata": {},
     "output_type": "execute_result"
    }
   ],
   "source": [
    "np.argmin(random_array, axis=0) # The output is rel to axis=0 (rows). it will compare 3 numbers (single-column)"
   ]
  },
  {
   "cell_type": "code",
   "execution_count": 18,
   "id": "0cc1170e-3822-4104-acb6-df5b1f658fe4",
   "metadata": {},
   "outputs": [
    {
     "data": {
      "text/plain": [
       "array([0, 4, 1])"
      ]
     },
     "execution_count": 18,
     "metadata": {},
     "output_type": "execute_result"
    }
   ],
   "source": [
    "np.argmax(random_array, axis=1) # The output is rel to axis=1 (columns). it will compare 5 numbers (single-row)"
   ]
  },
  {
   "cell_type": "code",
   "execution_count": null,
   "id": "c2f953bf-faea-4a31-b646-43c59048d642",
   "metadata": {},
   "outputs": [],
   "source": []
  }
 ],
 "metadata": {
  "kernelspec": {
   "display_name": "Python 3 (ipykernel)",
   "language": "python",
   "name": "python3"
  },
  "language_info": {
   "codemirror_mode": {
    "name": "ipython",
    "version": 3
   },
   "file_extension": ".py",
   "mimetype": "text/x-python",
   "name": "python",
   "nbconvert_exporter": "python",
   "pygments_lexer": "ipython3",
   "version": "3.13.4"
  }
 },
 "nbformat": 4,
 "nbformat_minor": 5
}
