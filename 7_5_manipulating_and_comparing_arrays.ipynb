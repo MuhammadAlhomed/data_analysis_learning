{
 "cells": [
  {
   "cell_type": "code",
   "execution_count": 1,
   "id": "2ed1fbf5-7d54-442d-8b98-adb105642298",
   "metadata": {},
   "outputs": [],
   "source": [
    "import numpy as np\n",
    "import pandas as pd\n",
    "\n",
    "a1 = np.array([1,2,3])\n",
    "a2 = np.array([\n",
    "    [1, 2.0, 3.3],\n",
    "    [4, 5, 6.5]\n",
    "])\n",
    "\n",
    "a3 = np.array([\n",
    "    [\n",
    "        [1, 2, 3],\n",
    "        [4, 5, 6],\n",
    "        [7, 8, 9]\n",
    "    ],\n",
    "    [\n",
    "        [10, 11, 12],\n",
    "        [13, 14, 15],\n",
    "        [16, 17, 18]\n",
    "    ]\n",
    "])"
   ]
  },
  {
   "cell_type": "markdown",
   "id": "7bc715a7-6733-4c33-a32a-b69bb5951c6f",
   "metadata": {},
   "source": [
    "# Manipulating & Comparing arrays"
   ]
  },
  {
   "cell_type": "markdown",
   "id": "ca043bdb-f77a-4f14-9834-f8f2f2d37987",
   "metadata": {},
   "source": [
    "## Arithmetic"
   ]
  },
  {
   "cell_type": "code",
   "execution_count": 2,
   "id": "50e8a76e-0404-4a16-8021-502778696c9e",
   "metadata": {},
   "outputs": [
    {
     "data": {
      "text/plain": [
       "array([1, 2, 3])"
      ]
     },
     "execution_count": 2,
     "metadata": {},
     "output_type": "execute_result"
    }
   ],
   "source": [
    "a1"
   ]
  },
  {
   "cell_type": "code",
   "execution_count": 3,
   "id": "b5e576cd-6273-4013-89d2-26a54be62a42",
   "metadata": {},
   "outputs": [
    {
     "data": {
      "text/plain": [
       "array([1., 1., 1.])"
      ]
     },
     "execution_count": 3,
     "metadata": {},
     "output_type": "execute_result"
    }
   ],
   "source": [
    "ones = np.ones(3)\n",
    "ones"
   ]
  },
  {
   "cell_type": "code",
   "execution_count": 4,
   "id": "2b55f0ad-8ee0-4ab0-af0c-9652ceb496d4",
   "metadata": {},
   "outputs": [
    {
     "data": {
      "text/plain": [
       "array([2., 3., 4.])"
      ]
     },
     "execution_count": 4,
     "metadata": {},
     "output_type": "execute_result"
    }
   ],
   "source": [
    "a1 + ones"
   ]
  },
  {
   "cell_type": "code",
   "execution_count": 5,
   "id": "8e6547b1-5ff7-47cf-ab05-edd39526b4c9",
   "metadata": {},
   "outputs": [
    {
     "data": {
      "text/plain": [
       "array([0., 1., 2.])"
      ]
     },
     "execution_count": 5,
     "metadata": {},
     "output_type": "execute_result"
    }
   ],
   "source": [
    "a1 - ones"
   ]
  },
  {
   "cell_type": "code",
   "execution_count": 6,
   "id": "351d5636-5e18-4824-aa18-193d77df1868",
   "metadata": {},
   "outputs": [
    {
     "data": {
      "text/plain": [
       "array([[ 1. ,  4. ,  9.9],\n",
       "       [ 4. , 10. , 19.5]])"
      ]
     },
     "execution_count": 6,
     "metadata": {},
     "output_type": "execute_result"
    }
   ],
   "source": [
    "a1 * a2"
   ]
  },
  {
   "cell_type": "code",
   "execution_count": 7,
   "id": "85f145bd-d46b-4a85-b663-b57e519fa94f",
   "metadata": {},
   "outputs": [
    {
     "data": {
      "text/plain": [
       "array([[[ 1. ,  4. ,  9.9],\n",
       "        [16. , 25. , 39. ],\n",
       "        [ 7. , 16. , 29.7]],\n",
       "\n",
       "       [[10. , 22. , 39.6],\n",
       "        [52. , 70. , 97.5],\n",
       "        [16. , 34. , 59.4]]])"
      ]
     },
     "execution_count": 7,
     "metadata": {},
     "output_type": "execute_result"
    }
   ],
   "source": [
    "# a2 * a3\n",
    "'ValueError: operands could not be broadcast together with shapes (2,3) (2,3,3)'\n",
    "\n",
    "np.resize(a2, (3,3)) * a3 # resized a2 will add an extra row with the values of the first row.\n",
    "\n"
   ]
  },
  {
   "cell_type": "code",
   "execution_count": 8,
   "id": "96cdcbf8-31e3-4821-8ddc-d6c4856fe326",
   "metadata": {},
   "outputs": [
    {
     "data": {
      "text/plain": [
       "array([[1. , 2. , 3.3],\n",
       "       [4. , 5. , 6.5]])"
      ]
     },
     "execution_count": 8,
     "metadata": {},
     "output_type": "execute_result"
    }
   ],
   "source": [
    "a2 / ones"
   ]
  },
  {
   "cell_type": "code",
   "execution_count": 9,
   "id": "0b0f9465-0740-401e-a3b8-3a436be688fa",
   "metadata": {},
   "outputs": [
    {
     "data": {
      "text/plain": [
       "array([[1., 2., 3.],\n",
       "       [4., 5., 6.]])"
      ]
     },
     "execution_count": 9,
     "metadata": {},
     "output_type": "execute_result"
    }
   ],
   "source": [
    "# Floor division. removes remainder to be ints.\n",
    "a2 // ones"
   ]
  },
  {
   "cell_type": "code",
   "execution_count": 10,
   "id": "5e92a49d-d26b-4f63-b4de-265e744741f1",
   "metadata": {},
   "outputs": [
    {
     "data": {
      "text/plain": [
       "array([[ 1.  ,  4.  , 10.89],\n",
       "       [16.  , 25.  , 42.25]])"
      ]
     },
     "execution_count": 10,
     "metadata": {},
     "output_type": "execute_result"
    }
   ],
   "source": [
    "a2 ** 2 # All elements to the power of 2"
   ]
  },
  {
   "cell_type": "code",
   "execution_count": 11,
   "id": "16d318e9-0fc5-493e-a5a6-5d44c50ab9bd",
   "metadata": {},
   "outputs": [
    {
     "data": {
      "text/plain": [
       "array([[ 1.  ,  4.  , 10.89],\n",
       "       [16.  , 25.  , 42.25]])"
      ]
     },
     "execution_count": 11,
     "metadata": {},
     "output_type": "execute_result"
    }
   ],
   "source": [
    "np.square(a2) # square from np"
   ]
  },
  {
   "cell_type": "code",
   "execution_count": 12,
   "id": "4b77a408-9416-4cf1-85ee-85343a324d98",
   "metadata": {},
   "outputs": [
    {
     "data": {
      "text/plain": [
       "array([[ 1.  ,  4.  , 10.89],\n",
       "       [16.  , 25.  , 42.25]])"
      ]
     },
     "execution_count": 12,
     "metadata": {},
     "output_type": "execute_result"
    }
   ],
   "source": [
    "np.power(a2, 2) # Power of 2 from np. flexible"
   ]
  },
  {
   "cell_type": "code",
   "execution_count": 13,
   "id": "65a3ffcd-bb4e-416f-8732-506f17e3df72",
   "metadata": {},
   "outputs": [
    {
     "data": {
      "text/plain": [
       "array([1, 0, 1])"
      ]
     },
     "execution_count": 13,
     "metadata": {},
     "output_type": "execute_result"
    }
   ],
   "source": [
    "a1 % 2 # Modulo ( Remainder )"
   ]
  },
  {
   "cell_type": "code",
   "execution_count": 14,
   "id": "1b572379-9816-4c36-8b9c-ac9c2205ae4b",
   "metadata": {},
   "outputs": [
    {
     "data": {
      "text/plain": [
       "array([ 2.71828183,  7.3890561 , 20.08553692])"
      ]
     },
     "execution_count": 14,
     "metadata": {},
     "output_type": "execute_result"
    }
   ],
   "source": [
    "np.exp(a1)"
   ]
  },
  {
   "cell_type": "code",
   "execution_count": 15,
   "id": "b1bd2eb3-445c-4c35-ba12-25460049aa2f",
   "metadata": {},
   "outputs": [
    {
     "data": {
      "text/plain": [
       "array([0.        , 0.69314718, 1.09861229])"
      ]
     },
     "execution_count": 15,
     "metadata": {},
     "output_type": "execute_result"
    }
   ],
   "source": [
    "np.log(a1)"
   ]
  },
  {
   "cell_type": "markdown",
   "id": "218d8dcd-209e-4fd6-b0b3-e210c2ce09da",
   "metadata": {},
   "source": [
    "## Aggregation\n",
    "Aggregation = performing the same operation on a number of things"
   ]
  },
  {
   "cell_type": "code",
   "execution_count": 16,
   "id": "4c3ef714-05d6-45c3-b62f-e269dec2a6c5",
   "metadata": {},
   "outputs": [
    {
     "data": {
      "text/plain": [
       "[1, 2, 3]"
      ]
     },
     "execution_count": 16,
     "metadata": {},
     "output_type": "execute_result"
    }
   ],
   "source": [
    "listy_list = [1, 2, 3] # Normal python list\n",
    "listy_list"
   ]
  },
  {
   "cell_type": "code",
   "execution_count": 17,
   "id": "35f57f34-0e21-4086-a498-7d5b94d85b0f",
   "metadata": {},
   "outputs": [
    {
     "data": {
      "text/plain": [
       "6"
      ]
     },
     "execution_count": 17,
     "metadata": {},
     "output_type": "execute_result"
    }
   ],
   "source": [
    "sum(listy_list)"
   ]
  },
  {
   "cell_type": "code",
   "execution_count": 18,
   "id": "c4104ed0-487b-460a-a215-db231fa0e3e4",
   "metadata": {},
   "outputs": [
    {
     "data": {
      "text/plain": [
       "np.int64(6)"
      ]
     },
     "execution_count": 18,
     "metadata": {},
     "output_type": "execute_result"
    }
   ],
   "source": [
    "sum(a1)"
   ]
  },
  {
   "cell_type": "code",
   "execution_count": 19,
   "id": "c28c43f1-3bf5-41d8-bc09-89b6ed46ca03",
   "metadata": {},
   "outputs": [
    {
     "data": {
      "text/plain": [
       "np.int64(6)"
      ]
     },
     "execution_count": 19,
     "metadata": {},
     "output_type": "execute_result"
    }
   ],
   "source": [
    "a1.sum()"
   ]
  },
  {
   "cell_type": "markdown",
   "id": "7cee918c-a643-41f2-9b5c-2954d24d8c5f",
   "metadata": {},
   "source": [
    "**Preferred**\n",
    "\n",
    "Use Python's methods on Python's Datatypes.\n",
    "\n",
    "Use NumPy's methods on Numpy's Arrays."
   ]
  },
  {
   "cell_type": "code",
   "execution_count": 20,
   "id": "d3a0ab5f-e5f2-414e-98dc-1350544abf2a",
   "metadata": {},
   "outputs": [
    {
     "name": "stdout",
     "output_type": "stream",
     "text": [
      "CPU times: total: 0 ns\n",
      "Wall time: 855 μs\n"
     ]
    },
    {
     "data": {
      "text/plain": [
       "100000"
      ]
     },
     "execution_count": 20,
     "metadata": {},
     "output_type": "execute_result"
    }
   ],
   "source": [
    "# Create a Massive Numpy Array (Display how fast numpy is)\n",
    "%time massive_array = np.random.random(100000)\n",
    "massive_array.size"
   ]
  },
  {
   "cell_type": "code",
   "execution_count": 21,
   "id": "7a616ae0-8ad3-4bef-beea-6e944c548213",
   "metadata": {},
   "outputs": [
    {
     "name": "stdout",
     "output_type": "stream",
     "text": [
      "8.87 ms ± 60 μs per loop (mean ± std. dev. of 7 runs, 100 loops each)\n",
      "30.6 μs ± 118 ns per loop (mean ± std. dev. of 7 runs, 10,000 loops each)\n"
     ]
    }
   ],
   "source": [
    "%timeit sum(massive_array)\n",
    "%timeit np.sum(massive_array)"
   ]
  },
  {
   "cell_type": "markdown",
   "id": "dfc959a1-ed06-4e19-8bb9-3687bfc11d29",
   "metadata": {},
   "source": [
    "---\n",
    "%time measures how long the statement took. more useful for debugging.\n",
    "\n",
    "%timeit analyses the statement, runs it a number of time to get statistics about it. useful for comparison to choose which is best."
   ]
  },
  {
   "cell_type": "markdown",
   "id": "0935de7e-a964-4c4a-90b8-40f075053342",
   "metadata": {},
   "source": [
    "---"
   ]
  },
  {
   "cell_type": "code",
   "execution_count": 22,
   "id": "70615237-0117-4402-815e-8fc00f6c1e5e",
   "metadata": {},
   "outputs": [
    {
     "data": {
      "text/plain": [
       "np.float64(3.6333333333333333)"
      ]
     },
     "execution_count": 22,
     "metadata": {},
     "output_type": "execute_result"
    }
   ],
   "source": [
    "np.mean(a2) # or a2.mean()"
   ]
  },
  {
   "cell_type": "code",
   "execution_count": 23,
   "id": "3b8d3f75-bb24-4ec5-bf70-5d75032a7d16",
   "metadata": {},
   "outputs": [
    {
     "data": {
      "text/plain": [
       "np.float64(1.0)"
      ]
     },
     "execution_count": 23,
     "metadata": {},
     "output_type": "execute_result"
    }
   ],
   "source": [
    "a2.min()"
   ]
  },
  {
   "cell_type": "code",
   "execution_count": 24,
   "id": "1e726a29-0113-4b09-974d-9dd0283484b2",
   "metadata": {},
   "outputs": [
    {
     "data": {
      "text/plain": [
       "np.float64(6.5)"
      ]
     },
     "execution_count": 24,
     "metadata": {},
     "output_type": "execute_result"
    }
   ],
   "source": [
    "a2.max()"
   ]
  },
  {
   "cell_type": "code",
   "execution_count": 25,
   "id": "7c125d02-ce81-4890-964a-7291bfa10821",
   "metadata": {},
   "outputs": [
    {
     "data": {
      "text/plain": [
       "np.float64(1.8226964152656422)"
      ]
     },
     "execution_count": 25,
     "metadata": {},
     "output_type": "execute_result"
    }
   ],
   "source": [
    "# Standard Deviation = a measure of how spread out a group of numbers is from the mean\n",
    "# std = sqrt(var)\n",
    "a2.std()"
   ]
  },
  {
   "cell_type": "code",
   "execution_count": 26,
   "id": "5b7a817d-d1e4-42de-9c86-4d6a16c53188",
   "metadata": {},
   "outputs": [
    {
     "data": {
      "text/plain": [
       "np.float64(3.3222222222222224)"
      ]
     },
     "execution_count": 26,
     "metadata": {},
     "output_type": "execute_result"
    }
   ],
   "source": [
    "# Variance = measure of the average degree to which each number is different to the mean\n",
    "# Higher variance = wider range of numbers\n",
    "# Lower variance = lower range of numbers\n",
    "# Variance = std ** 2\n",
    "a2.var()"
   ]
  },
  {
   "cell_type": "code",
   "execution_count": 27,
   "id": "246b86da-b794-40c5-adf1-086507f74618",
   "metadata": {},
   "outputs": [
    {
     "name": "stdout",
     "output_type": "stream",
     "text": [
      "\n",
      "high_var: 4296133.472222221\n",
      "low_var: 8.959999999999999\n",
      "high_std: 2072.711623024829\n",
      "low_std: 2.993325909419153\n",
      "high_mean: 1600.1666666666667\n",
      "low_mean: 5.8\n",
      "\n"
     ]
    }
   ],
   "source": [
    "# Demo of std and var\n",
    "high_var_array = np.array([1,100,200,300,4000,5000])\n",
    "low_var_array = np.array([2,3,6,8,10])\n",
    "\n",
    "print(f'''\n",
    "high_var: {high_var_array.var()}\n",
    "low_var: {low_var_array.var()}\n",
    "high_std: {high_var_array.std()}\n",
    "low_std: {low_var_array.std()}\n",
    "high_mean: {high_var_array.mean()}\n",
    "low_mean: {low_var_array.mean()}\n",
    "''')\n",
    "\n"
   ]
  },
  {
   "cell_type": "code",
   "execution_count": 28,
   "id": "075c8c2b-be8e-4290-bed0-f2639234bb5a",
   "metadata": {},
   "outputs": [
    {
     "data": {
      "image/png": "[encoded data removed]",
      "text/plain": [
       "<Figure size 640x480 with 1 Axes>"
      ]
     },
     "metadata": {},
     "output_type": "display_data"
    }
   ],
   "source": [
    "%matplotlib inline\n",
    "# Lets show graphs to visualize their spread\n",
    "import matplotlib.pyplot as plt\n",
    "plt.hist(high_var_array)\n",
    "plt.show()"
   ]
  },
  {
   "cell_type": "code",
   "execution_count": 29,
   "id": "69e2ddbc-926a-40c8-af37-4a29ccbcc187",
   "metadata": {},
   "outputs": [
    {
     "data": {
      "image/png": "[encoded data removed]",
      "text/plain": [
       "<Figure size 640x480 with 1 Axes>"
      ]
     },
     "metadata": {},
     "output_type": "display_data"
    }
   ],
   "source": [
    "plt.hist(low_var_array)\n",
    "plt.show()"
   ]
  },
  {
   "cell_type": "markdown",
   "id": "0a905be3-5136-4875-b19d-e315435bb860",
   "metadata": {},
   "source": [
    "## Reshaping & Transposing"
   ]
  },
  {
   "cell_type": "code",
   "execution_count": 30,
   "id": "1cc16829-018a-4314-a2e1-0ac9e1adaea6",
   "metadata": {},
   "outputs": [
    {
     "data": {
      "text/plain": [
       "array([[[ 1,  2,  3],\n",
       "        [ 4,  5,  6],\n",
       "        [ 7,  8,  9]],\n",
       "\n",
       "       [[10, 11, 12],\n",
       "        [13, 14, 15],\n",
       "        [16, 17, 18]]])"
      ]
     },
     "execution_count": 30,
     "metadata": {},
     "output_type": "execute_result"
    }
   ],
   "source": [
    "a3"
   ]
  },
  {
   "cell_type": "code",
   "execution_count": 31,
   "id": "a6a8d8ba-5851-4620-8445-fa923b2059f6",
   "metadata": {},
   "outputs": [
    {
     "data": {
      "text/plain": [
       "array([[1. , 2. , 3.3],\n",
       "       [4. , 5. , 6.5]])"
      ]
     },
     "execution_count": 31,
     "metadata": {},
     "output_type": "execute_result"
    }
   ],
   "source": [
    "a2"
   ]
  },
  {
   "cell_type": "code",
   "execution_count": 32,
   "id": "430c276a-88f0-40db-b037-835e13249f97",
   "metadata": {},
   "outputs": [
    {
     "data": {
      "text/plain": [
       "((2, 3, 3), (2, 3))"
      ]
     },
     "execution_count": 32,
     "metadata": {},
     "output_type": "execute_result"
    }
   ],
   "source": [
    "a3.shape, a2.shape"
   ]
  },
  {
   "cell_type": "code",
   "execution_count": 33,
   "id": "f77d93cb-e454-47cb-b495-be42faec1cdb",
   "metadata": {},
   "outputs": [
    {
     "data": {
      "text/plain": [
       "'ValueError: operands could not be broadcast together with shapes (2,3) (2,3,3)'"
      ]
     },
     "execution_count": 33,
     "metadata": {},
     "output_type": "execute_result"
    }
   ],
   "source": [
    "# a2 * a3\n",
    "'ValueError: operands could not be broadcast together with shapes (2,3) (2,3,3)'"
   ]
  },
  {
   "cell_type": "code",
   "execution_count": 34,
   "id": "4fca561c-e33e-47aa-a0d4-f7ef9b74a8cf",
   "metadata": {},
   "outputs": [
    {
     "data": {
      "text/plain": [
       "array([[[1. ],\n",
       "        [2. ],\n",
       "        [3.3]],\n",
       "\n",
       "       [[4. ],\n",
       "        [5. ],\n",
       "        [6.5]]])"
      ]
     },
     "execution_count": 34,
     "metadata": {},
     "output_type": "execute_result"
    }
   ],
   "source": [
    "a2_reshape = a2.reshape(2,3,1)\n",
    "a2_reshape"
   ]
  },
  {
   "cell_type": "code",
   "execution_count": 35,
   "id": "80315ba0-c946-4f6c-a9cb-632a2d471c2f",
   "metadata": {},
   "outputs": [
    {
     "data": {
      "text/plain": [
       "array([[[  1. ,   2. ,   3. ],\n",
       "        [  8. ,  10. ,  12. ],\n",
       "        [ 23.1,  26.4,  29.7]],\n",
       "\n",
       "       [[ 40. ,  44. ,  48. ],\n",
       "        [ 65. ,  70. ,  75. ],\n",
       "        [104. , 110.5, 117. ]]])"
      ]
     },
     "execution_count": 35,
     "metadata": {},
     "output_type": "execute_result"
    }
   ],
   "source": [
    "a2_reshape * a3"
   ]
  },
  {
   "cell_type": "code",
   "execution_count": 36,
   "id": "63f6cbee-4df2-4b70-8fd1-e58bae8b2f3d",
   "metadata": {},
   "outputs": [
    {
     "data": {
      "text/plain": [
       "array([[1. , 2. , 3.3],\n",
       "       [4. , 5. , 6.5]])"
      ]
     },
     "execution_count": 36,
     "metadata": {},
     "output_type": "execute_result"
    }
   ],
   "source": [
    "a2"
   ]
  },
  {
   "cell_type": "code",
   "execution_count": 37,
   "id": "ab70c514-a3e8-4014-ba54-d01a33baf5a6",
   "metadata": {},
   "outputs": [
    {
     "data": {
      "text/plain": [
       "array([[1. , 4. ],\n",
       "       [2. , 5. ],\n",
       "       [3.3, 6.5]])"
      ]
     },
     "execution_count": 37,
     "metadata": {},
     "output_type": "execute_result"
    }
   ],
   "source": [
    "a2.T # or a2.transpose()"
   ]
  },
  {
   "cell_type": "code",
   "execution_count": 38,
   "id": "5a25c5cb-0bcc-437a-b84b-b94ab9216a7c",
   "metadata": {},
   "outputs": [
    {
     "data": {
      "text/plain": [
       "array([[[ 1,  2,  3],\n",
       "        [ 4,  5,  6],\n",
       "        [ 7,  8,  9]],\n",
       "\n",
       "       [[10, 11, 12],\n",
       "        [13, 14, 15],\n",
       "        [16, 17, 18]]])"
      ]
     },
     "execution_count": 38,
     "metadata": {},
     "output_type": "execute_result"
    }
   ],
   "source": [
    "a3"
   ]
  },
  {
   "cell_type": "code",
   "execution_count": 39,
   "id": "093acd0a-0ba6-4f8e-af93-d22743efba31",
   "metadata": {},
   "outputs": [
    {
     "data": {
      "text/plain": [
       "array([[[ 1, 10],\n",
       "        [ 4, 13],\n",
       "        [ 7, 16]],\n",
       "\n",
       "       [[ 2, 11],\n",
       "        [ 5, 14],\n",
       "        [ 8, 17]],\n",
       "\n",
       "       [[ 3, 12],\n",
       "        [ 6, 15],\n",
       "        [ 9, 18]]])"
      ]
     },
     "execution_count": 39,
     "metadata": {},
     "output_type": "execute_result"
    }
   ],
   "source": [
    "a3.T"
   ]
  },
  {
   "cell_type": "markdown",
   "id": "e31564a3-11f8-4385-b73b-bbf549d76630",
   "metadata": {},
   "source": [
    "## Dot product"
   ]
  },
  {
   "cell_type": "code",
   "execution_count": 40,
   "id": "35b0a702-597b-48ad-822a-76784a6b14c3",
   "metadata": {},
   "outputs": [],
   "source": [
    "rng = np.random.default_rng(0)\n",
    "\n",
    "mat1 = rng.integers(10, size=(5,3))\n",
    "mat2 = rng.integers(10, size=(5,3))"
   ]
  },
  {
   "cell_type": "code",
   "execution_count": 41,
   "id": "83d674d4-aa21-48ae-9ee2-cfe88faa6e16",
   "metadata": {},
   "outputs": [
    {
     "data": {
      "text/plain": [
       "array([[8, 6, 5],\n",
       "       [2, 3, 0],\n",
       "       [0, 0, 1],\n",
       "       [8, 6, 9],\n",
       "       [5, 6, 9]])"
      ]
     },
     "execution_count": 41,
     "metadata": {},
     "output_type": "execute_result"
    }
   ],
   "source": [
    "mat1"
   ]
  },
  {
   "cell_type": "code",
   "execution_count": 42,
   "id": "4a02de50-7f37-415e-bc65-b4abcaf49b3a",
   "metadata": {},
   "outputs": [
    {
     "data": {
      "text/plain": [
       "array([[7, 6, 5],\n",
       "       [5, 9, 2],\n",
       "       [8, 6, 0],\n",
       "       [3, 8, 5],\n",
       "       [0, 7, 7]])"
      ]
     },
     "execution_count": 42,
     "metadata": {},
     "output_type": "execute_result"
    }
   ],
   "source": [
    "mat2"
   ]
  },
  {
   "cell_type": "code",
   "execution_count": 43,
   "id": "5aa1c399-0bdd-438b-af77-f393112e4cd2",
   "metadata": {},
   "outputs": [
    {
     "data": {
      "text/plain": [
       "array([[56, 36, 25],\n",
       "       [10, 27,  0],\n",
       "       [ 0,  0,  0],\n",
       "       [24, 48, 45],\n",
       "       [ 0, 42, 63]])"
      ]
     },
     "execution_count": 43,
     "metadata": {},
     "output_type": "execute_result"
    }
   ],
   "source": [
    "# Element-wise multiplication ( Hadamard product)\n",
    "mat1 * mat2"
   ]
  },
  {
   "cell_type": "code",
   "execution_count": 44,
   "id": "bd2ba1cd-5479-4318-ba1f-ef1b9d7dfd0c",
   "metadata": {},
   "outputs": [
    {
     "data": {
      "text/plain": [
       "array([[117, 104, 100,  97,  77],\n",
       "       [ 32,  37,  34,  30,  21],\n",
       "       [  5,   2,   0,   5,   7],\n",
       "       [137, 112, 100, 117, 105],\n",
       "       [116,  97,  76, 108, 105]])"
      ]
     },
     "execution_count": 44,
     "metadata": {},
     "output_type": "execute_result"
    }
   ],
   "source": [
    "#np.dot(mat1, mat2)\n",
    "'ValueError: shapes (5,3) and (5,3) not aligned: 3 (dim 1) != 5 (dim 0)'\n",
    "\n",
    "np.dot(mat1, mat2.T)"
   ]
  },
  {
   "cell_type": "markdown",
   "id": "7cdbdaff-63c5-4d52-ba12-992c43b409ed",
   "metadata": {},
   "source": [
    "### Dot product example (nut butter sales)"
   ]
  },
  {
   "cell_type": "code",
   "execution_count": 55,
   "id": "346e3f64-a03a-4a2f-adc6-f77f0b2fd23e",
   "metadata": {},
   "outputs": [
    {
     "data": {
      "text/plain": [
       "array([[17, 12, 10],\n",
       "       [ 5,  6,  0],\n",
       "       [ 1,  0,  3],\n",
       "       [16, 12, 18],\n",
       "       [10, 12, 19]])"
      ]
     },
     "execution_count": 55,
     "metadata": {},
     "output_type": "execute_result"
    }
   ],
   "source": [
    "rng = np.random.default_rng(0)\n",
    "\n",
    "# Number of jars sold.\n",
    "# Rows = Days of week\n",
    "# Columns = Types\n",
    "sales_amounts = rng.integers(20, size=(5,3))\n",
    "sales_amounts"
   ]
  },
  {
   "cell_type": "code",
   "execution_count": 56,
   "id": "e0a36f70-26ad-4c6a-9765-6aabca852a64",
   "metadata": {},
   "outputs": [
    {
     "data": {
      "text/html": [
       "<div>\n",
       "<style scoped>\n",
       "    .dataframe tbody tr th:only-of-type {\n",
       "        vertical-align: middle;\n",
       "    }\n",
       "\n",
       "    .dataframe tbody tr th {\n",
       "        vertical-align: top;\n",
       "    }\n",
       "\n",
       "    .dataframe thead th {\n",
       "        text-align: right;\n",
       "    }\n",
       "</style>\n",
       "<table border=\"1\" class=\"dataframe\">\n",
       "  <thead>\n",
       "    <tr style=\"text-align: right;\">\n",
       "      <th></th>\n",
       "      <th>Almond butter</th>\n",
       "      <th>Peanut butter</th>\n",
       "      <th>Cashew Butter</th>\n",
       "    </tr>\n",
       "  </thead>\n",
       "  <tbody>\n",
       "    <tr>\n",
       "      <th>Mon</th>\n",
       "      <td>17</td>\n",
       "      <td>12</td>\n",
       "      <td>10</td>\n",
       "    </tr>\n",
       "    <tr>\n",
       "      <th>Tues</th>\n",
       "      <td>5</td>\n",
       "      <td>6</td>\n",
       "      <td>0</td>\n",
       "    </tr>\n",
       "    <tr>\n",
       "      <th>Wed</th>\n",
       "      <td>1</td>\n",
       "      <td>0</td>\n",
       "      <td>3</td>\n",
       "    </tr>\n",
       "    <tr>\n",
       "      <th>Thu</th>\n",
       "      <td>16</td>\n",
       "      <td>12</td>\n",
       "      <td>18</td>\n",
       "    </tr>\n",
       "    <tr>\n",
       "      <th>Fri</th>\n",
       "      <td>10</td>\n",
       "      <td>12</td>\n",
       "      <td>19</td>\n",
       "    </tr>\n",
       "  </tbody>\n",
       "</table>\n",
       "</div>"
      ],
      "text/plain": [
       "      Almond butter  Peanut butter  Cashew Butter\n",
       "Mon              17             12             10\n",
       "Tues              5              6              0\n",
       "Wed               1              0              3\n",
       "Thu              16             12             18\n",
       "Fri              10             12             19"
      ]
     },
     "execution_count": 56,
     "metadata": {},
     "output_type": "execute_result"
    }
   ],
   "source": [
    "# Create weekly_sales DataFrame\n",
    "weekly_sales = pd.DataFrame(sales_amounts, \n",
    "                            index=['Mon', 'Tues','Wed', 'Thu', 'Fri'],\n",
    "                            columns=['Almond butter', 'Peanut butter', 'Cashew Butter'])\n",
    "weekly_sales"
   ]
  },
  {
   "cell_type": "code",
   "execution_count": 57,
   "id": "f0d68bcb-7f8b-4896-bf2f-60c470d3098a",
   "metadata": {},
   "outputs": [
    {
     "data": {
      "text/plain": [
       "array([10,  8, 12])"
      ]
     },
     "execution_count": 57,
     "metadata": {},
     "output_type": "execute_result"
    }
   ],
   "source": [
    "# Create Prices array\n",
    "prices = np.array([10, 8, 12])\n",
    "prices"
   ]
  },
  {
   "cell_type": "markdown",
   "id": "63fd6191-d361-40cd-9913-d9a0c6aebc5d",
   "metadata": {},
   "source": [
    "NOTE:\n",
    "\n",
    "By default, the shape is (3,1).\n",
    "\n",
    "Pandas expects (1,3) because we used 3 columns. Can be fixed if we transpose the input"
   ]
  },
  {
   "cell_type": "code",
   "execution_count": 58,
   "id": "b237d54a-8bd5-4a9c-a324-519d344291f7",
   "metadata": {},
   "outputs": [
    {
     "data": {
      "text/html": [
       "<div>\n",
       "<style scoped>\n",
       "    .dataframe tbody tr th:only-of-type {\n",
       "        vertical-align: middle;\n",
       "    }\n",
       "\n",
       "    .dataframe tbody tr th {\n",
       "        vertical-align: top;\n",
       "    }\n",
       "\n",
       "    .dataframe thead th {\n",
       "        text-align: right;\n",
       "    }\n",
       "</style>\n",
       "<table border=\"1\" class=\"dataframe\">\n",
       "  <thead>\n",
       "    <tr style=\"text-align: right;\">\n",
       "      <th></th>\n",
       "      <th>Almond butter</th>\n",
       "      <th>Peanut butter</th>\n",
       "      <th>Cashew Butter</th>\n",
       "    </tr>\n",
       "  </thead>\n",
       "  <tbody>\n",
       "    <tr>\n",
       "      <th>Price</th>\n",
       "      <td>10</td>\n",
       "      <td>8</td>\n",
       "      <td>12</td>\n",
       "    </tr>\n",
       "  </tbody>\n",
       "</table>\n",
       "</div>"
      ],
      "text/plain": [
       "       Almond butter  Peanut butter  Cashew Butter\n",
       "Price             10              8             12"
      ]
     },
     "execution_count": 58,
     "metadata": {},
     "output_type": "execute_result"
    }
   ],
   "source": [
    "# Create butter_prices DataFrame\n",
    "butter_prices = pd.DataFrame(prices.reshape(1,3),\n",
    "                             index=['Price'],\n",
    "                             columns=['Almond butter', 'Peanut butter', 'Cashew Butter']\n",
    "                            )\n",
    "\n",
    "\n",
    "# This will work without reshaping. But the inputs will be flipped (preferred mathematically) I just did the above to follow the tutorial exactly. Keep in mind things will change below if this is used\n",
    "'''\n",
    "butter_prices = pd.DataFrame(prices,\n",
    "                             index=['Almond butter', 'Peanut butter', 'Cashew Butter'],\n",
    "                             columns=['Price']\n",
    "                            )\n",
    "'''\n",
    "butter_prices"
   ]
  },
  {
   "cell_type": "code",
   "execution_count": 59,
   "id": "99e3ac68-adb4-4fe0-a72e-d3b8f9f27672",
   "metadata": {},
   "outputs": [
    {
     "data": {
      "text/html": [
       "<div>\n",
       "<style scoped>\n",
       "    .dataframe tbody tr th:only-of-type {\n",
       "        vertical-align: middle;\n",
       "    }\n",
       "\n",
       "    .dataframe tbody tr th {\n",
       "        vertical-align: top;\n",
       "    }\n",
       "\n",
       "    .dataframe thead th {\n",
       "        text-align: right;\n",
       "    }\n",
       "</style>\n",
       "<table border=\"1\" class=\"dataframe\">\n",
       "  <thead>\n",
       "    <tr style=\"text-align: right;\">\n",
       "      <th></th>\n",
       "      <th>Price</th>\n",
       "    </tr>\n",
       "  </thead>\n",
       "  <tbody>\n",
       "    <tr>\n",
       "      <th>Almond butter</th>\n",
       "      <td>10</td>\n",
       "    </tr>\n",
       "    <tr>\n",
       "      <th>Peanut butter</th>\n",
       "      <td>8</td>\n",
       "    </tr>\n",
       "    <tr>\n",
       "      <th>Cashew Butter</th>\n",
       "      <td>12</td>\n",
       "    </tr>\n",
       "  </tbody>\n",
       "</table>\n",
       "</div>"
      ],
      "text/plain": [
       "               Price\n",
       "Almond butter     10\n",
       "Peanut butter      8\n",
       "Cashew Butter     12"
      ]
     },
     "execution_count": 59,
     "metadata": {},
     "output_type": "execute_result"
    }
   ],
   "source": [
    "butter_prices.T # This is what will be without the reshaping (preferred mathematically)."
   ]
  },
  {
   "cell_type": "code",
   "execution_count": 60,
   "id": "e4e2c9b3-3da4-46bf-a6fb-5498181ea9e4",
   "metadata": {},
   "outputs": [
    {
     "data": {
      "text/plain": [
       "array([386,  98,  46, 472, 424])"
      ]
     },
     "execution_count": 60,
     "metadata": {},
     "output_type": "execute_result"
    }
   ],
   "source": [
    "total_sales = prices.dot(sales_amounts.T)\n",
    "total_sales"
   ]
  },
  {
   "cell_type": "code",
   "execution_count": 61,
   "id": "211d7697-0fa4-404b-8893-65c91f62611c",
   "metadata": {},
   "outputs": [
    {
     "data": {
      "text/html": [
       "<div>\n",
       "<style scoped>\n",
       "    .dataframe tbody tr th:only-of-type {\n",
       "        vertical-align: middle;\n",
       "    }\n",
       "\n",
       "    .dataframe tbody tr th {\n",
       "        vertical-align: top;\n",
       "    }\n",
       "\n",
       "    .dataframe thead th {\n",
       "        text-align: right;\n",
       "    }\n",
       "</style>\n",
       "<table border=\"1\" class=\"dataframe\">\n",
       "  <thead>\n",
       "    <tr style=\"text-align: right;\">\n",
       "      <th></th>\n",
       "      <th>Mon</th>\n",
       "      <th>Tues</th>\n",
       "      <th>Wed</th>\n",
       "      <th>Thu</th>\n",
       "      <th>Fri</th>\n",
       "    </tr>\n",
       "  </thead>\n",
       "  <tbody>\n",
       "    <tr>\n",
       "      <th>Price</th>\n",
       "      <td>386</td>\n",
       "      <td>98</td>\n",
       "      <td>46</td>\n",
       "      <td>472</td>\n",
       "      <td>424</td>\n",
       "    </tr>\n",
       "  </tbody>\n",
       "</table>\n",
       "</div>"
      ],
      "text/plain": [
       "       Mon  Tues  Wed  Thu  Fri\n",
       "Price  386    98   46  472  424"
      ]
     },
     "execution_count": 61,
     "metadata": {},
     "output_type": "execute_result"
    }
   ],
   "source": [
    "# Create daily_sales\n",
    "daily_sales = butter_prices.dot(weekly_sales.T)\n",
    "daily_sales"
   ]
  },
  {
   "cell_type": "code",
   "execution_count": 62,
   "id": "3049a88d-027d-4a7e-aa3c-0baed1476536",
   "metadata": {},
   "outputs": [
    {
     "data": {
      "text/html": [
       "<div>\n",
       "<style scoped>\n",
       "    .dataframe tbody tr th:only-of-type {\n",
       "        vertical-align: middle;\n",
       "    }\n",
       "\n",
       "    .dataframe tbody tr th {\n",
       "        vertical-align: top;\n",
       "    }\n",
       "\n",
       "    .dataframe thead th {\n",
       "        text-align: right;\n",
       "    }\n",
       "</style>\n",
       "<table border=\"1\" class=\"dataframe\">\n",
       "  <thead>\n",
       "    <tr style=\"text-align: right;\">\n",
       "      <th></th>\n",
       "      <th>Almond butter</th>\n",
       "      <th>Peanut butter</th>\n",
       "      <th>Cashew Butter</th>\n",
       "    </tr>\n",
       "  </thead>\n",
       "  <tbody>\n",
       "    <tr>\n",
       "      <th>Mon</th>\n",
       "      <td>17</td>\n",
       "      <td>12</td>\n",
       "      <td>10</td>\n",
       "    </tr>\n",
       "    <tr>\n",
       "      <th>Tues</th>\n",
       "      <td>5</td>\n",
       "      <td>6</td>\n",
       "      <td>0</td>\n",
       "    </tr>\n",
       "    <tr>\n",
       "      <th>Wed</th>\n",
       "      <td>1</td>\n",
       "      <td>0</td>\n",
       "      <td>3</td>\n",
       "    </tr>\n",
       "    <tr>\n",
       "      <th>Thu</th>\n",
       "      <td>16</td>\n",
       "      <td>12</td>\n",
       "      <td>18</td>\n",
       "    </tr>\n",
       "    <tr>\n",
       "      <th>Fri</th>\n",
       "      <td>10</td>\n",
       "      <td>12</td>\n",
       "      <td>19</td>\n",
       "    </tr>\n",
       "  </tbody>\n",
       "</table>\n",
       "</div>"
      ],
      "text/plain": [
       "      Almond butter  Peanut butter  Cashew Butter\n",
       "Mon              17             12             10\n",
       "Tues              5              6              0\n",
       "Wed               1              0              3\n",
       "Thu              16             12             18\n",
       "Fri              10             12             19"
      ]
     },
     "execution_count": 62,
     "metadata": {},
     "output_type": "execute_result"
    }
   ],
   "source": [
    "weekly_sales # view it again"
   ]
  },
  {
   "cell_type": "code",
   "execution_count": 63,
   "id": "8293bebe-5c2c-4bb8-b642-04587e7f8097",
   "metadata": {},
   "outputs": [
    {
     "data": {
      "text/html": [
       "<div>\n",
       "<style scoped>\n",
       "    .dataframe tbody tr th:only-of-type {\n",
       "        vertical-align: middle;\n",
       "    }\n",
       "\n",
       "    .dataframe tbody tr th {\n",
       "        vertical-align: top;\n",
       "    }\n",
       "\n",
       "    .dataframe thead th {\n",
       "        text-align: right;\n",
       "    }\n",
       "</style>\n",
       "<table border=\"1\" class=\"dataframe\">\n",
       "  <thead>\n",
       "    <tr style=\"text-align: right;\">\n",
       "      <th></th>\n",
       "      <th>Almond butter</th>\n",
       "      <th>Peanut butter</th>\n",
       "      <th>Cashew Butter</th>\n",
       "      <th>Total ($)</th>\n",
       "    </tr>\n",
       "  </thead>\n",
       "  <tbody>\n",
       "    <tr>\n",
       "      <th>Mon</th>\n",
       "      <td>17</td>\n",
       "      <td>12</td>\n",
       "      <td>10</td>\n",
       "      <td>386</td>\n",
       "    </tr>\n",
       "    <tr>\n",
       "      <th>Tues</th>\n",
       "      <td>5</td>\n",
       "      <td>6</td>\n",
       "      <td>0</td>\n",
       "      <td>98</td>\n",
       "    </tr>\n",
       "    <tr>\n",
       "      <th>Wed</th>\n",
       "      <td>1</td>\n",
       "      <td>0</td>\n",
       "      <td>3</td>\n",
       "      <td>46</td>\n",
       "    </tr>\n",
       "    <tr>\n",
       "      <th>Thu</th>\n",
       "      <td>16</td>\n",
       "      <td>12</td>\n",
       "      <td>18</td>\n",
       "      <td>472</td>\n",
       "    </tr>\n",
       "    <tr>\n",
       "      <th>Fri</th>\n",
       "      <td>10</td>\n",
       "      <td>12</td>\n",
       "      <td>19</td>\n",
       "      <td>424</td>\n",
       "    </tr>\n",
       "  </tbody>\n",
       "</table>\n",
       "</div>"
      ],
      "text/plain": [
       "      Almond butter  Peanut butter  Cashew Butter  Total ($)\n",
       "Mon              17             12             10        386\n",
       "Tues              5              6              0         98\n",
       "Wed               1              0              3         46\n",
       "Thu              16             12             18        472\n",
       "Fri              10             12             19        424"
      ]
     },
     "execution_count": 63,
     "metadata": {},
     "output_type": "execute_result"
    }
   ],
   "source": [
    "# Adding a new column to weekly_sales. We need to transpose for it to work correctly\n",
    "\n",
    "weekly_sales[\"Total ($)\"] = daily_sales.T\n",
    "weekly_sales"
   ]
  },
  {
   "cell_type": "markdown",
   "id": "08a0191f-c195-4538-b324-2000b2e29d1a",
   "metadata": {},
   "source": [
    "## Comparison Operators"
   ]
  },
  {
   "cell_type": "code",
   "execution_count": 65,
   "id": "1fa2d14d-e958-4594-aaa2-0ef34db2a7fa",
   "metadata": {},
   "outputs": [
    {
     "data": {
      "text/plain": [
       "array([1, 2, 3])"
      ]
     },
     "execution_count": 65,
     "metadata": {},
     "output_type": "execute_result"
    }
   ],
   "source": [
    "a1"
   ]
  },
  {
   "cell_type": "code",
   "execution_count": 66,
   "id": "cb52b916-b7e3-4509-84cd-52e62601248d",
   "metadata": {},
   "outputs": [
    {
     "data": {
      "text/plain": [
       "array([[1. , 2. , 3.3],\n",
       "       [4. , 5. , 6.5]])"
      ]
     },
     "execution_count": 66,
     "metadata": {},
     "output_type": "execute_result"
    }
   ],
   "source": [
    "a2"
   ]
  },
  {
   "cell_type": "code",
   "execution_count": 67,
   "id": "ba999f0a-e062-412a-bef2-1c9895764bda",
   "metadata": {},
   "outputs": [
    {
     "data": {
      "text/plain": [
       "array([[False, False, False],\n",
       "       [False, False, False]])"
      ]
     },
     "execution_count": 67,
     "metadata": {},
     "output_type": "execute_result"
    }
   ],
   "source": [
    "a1 > a2"
   ]
  },
  {
   "cell_type": "code",
   "execution_count": 68,
   "id": "dfb57618-fb9b-4585-8c5b-6192e6b10a31",
   "metadata": {},
   "outputs": [
    {
     "data": {
      "text/plain": [
       "array([[ True,  True, False],\n",
       "       [False, False, False]])"
      ]
     },
     "execution_count": 68,
     "metadata": {},
     "output_type": "execute_result"
    }
   ],
   "source": [
    "a1 >= a2"
   ]
  },
  {
   "cell_type": "code",
   "execution_count": 69,
   "id": "96ec1f30-b333-4c24-9e7b-68b70ae4f040",
   "metadata": {},
   "outputs": [
    {
     "data": {
      "text/plain": [
       "array([False, False, False])"
      ]
     },
     "execution_count": 69,
     "metadata": {},
     "output_type": "execute_result"
    }
   ],
   "source": [
    "a1 > 5"
   ]
  },
  {
   "cell_type": "code",
   "execution_count": 70,
   "id": "14500c96-ca19-4cc8-bd4e-1a12d14e68d5",
   "metadata": {},
   "outputs": [
    {
     "data": {
      "text/plain": [
       "array([ True,  True,  True])"
      ]
     },
     "execution_count": 70,
     "metadata": {},
     "output_type": "execute_result"
    }
   ],
   "source": [
    "a1 < 5"
   ]
  },
  {
   "cell_type": "code",
   "execution_count": 71,
   "id": "0a9fda8b-1049-4aed-a920-12d205ebf827",
   "metadata": {},
   "outputs": [
    {
     "data": {
      "text/plain": [
       "array([[ True,  True, False],\n",
       "       [False, False, False]])"
      ]
     },
     "execution_count": 71,
     "metadata": {},
     "output_type": "execute_result"
    }
   ],
   "source": [
    "a1 == a2"
   ]
  }
 ],
 "metadata": {
  "kernelspec": {
   "display_name": "Python 3 (ipykernel)",
   "language": "python",
   "name": "python3"
  },
  "language_info": {
   "codemirror_mode": {
    "name": "ipython",
    "version": 3
   },
   "file_extension": ".py",
   "mimetype": "text/x-python",
   "name": "python",
   "nbconvert_exporter": "python",
   "pygments_lexer": "ipython3",
   "version": "3.13.4"
  }
 },
 "nbformat": 4,
 "nbformat_minor": 5
}
